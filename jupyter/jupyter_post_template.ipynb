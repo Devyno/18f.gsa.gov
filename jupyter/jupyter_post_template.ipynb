{
 "cells": [
  {
   "cell_type": "markdown",
   "metadata": {},
   "source": [
    "---\n",
    "title: \"Your Title Here\"\n",
    "date: MMMM-DD-YY\n",
    "authors:\n",
    "- catherine\n",
    "tags:\n",
    "- ipython\n",
    "excerpt: \"Got some IPython for you!\"\n",
    "description: \"Some stuff.\"\n",
    "image: \n",
    "---"
   ]
  },
  {
   "cell_type": "markdown",
   "metadata": {},
   "source": [
    "# Instructions\n",
    "\n",
    "1. `git checkout -b myawesomeblogpost` to put this in its own branch\n",
    "1. Copy this file to `yyyy-mm-dd-your-post-title.ipynb` here in the `jupyter/` folder; switch to that copy\n",
    "1. Edit the top cell (the front matter) with real data\n",
    "1. Save the notebook\n",
    "1. Edit the cell beneath this to set `notebookname` to your actual value for yyyy-mm-dd-your-post-title\n",
    "1. Add Markdown and code cells to the bottom to make a wonderful blog post\n",
    "1. Execute the two cells right after this one to generate `yyyy-mm-dd-your-post-title.md`"
   ]
  },
  {
   "cell_type": "code",
   "execution_count": 1,
   "metadata": {
    "collapsed": false
   },
   "outputs": [],
   "source": [
    "notebookname = 'yyyy-mm-dd-your-post-title'  # SET THIS to match your own!  Omit .ipynb"
   ]
  },
  {
   "cell_type": "code",
   "execution_count": 10,
   "metadata": {
    "collapsed": false
   },
   "outputs": [
    {
     "name": "stdout",
     "output_type": "stream",
     "text": [
      "[NbConvertApp] Converting notebook 2016-02-29-happy-leap-day.ipynb to markdown\n",
      "[NbConvertApp] Support files will be in 2016-02-29-happy-leap-day_files/\n",
      "[NbConvertApp] Making directory 2016-02-29-happy-leap-day_files\n",
      "[NbConvertApp] Writing 40794 bytes to 2016-02-29-happy-leap-day.md\n"
     ]
    }
   ],
   "source": [
    "# Use nbconvert to generate an .md version of the notebook\n",
    "!rm -rf {notebookname}_files\n",
    "!ipython nbconvert --to markdown {notebookname}.ipynb\n",
    "\n",
    "# set up a directory under `assets` to put the generated images in\n",
    "image_dest = '../assets/blog/jupyter/{}/'.format(notebookname) \n",
    "!rm -rf {image_dest}\n",
    "!mkdir -p {image_dest}\n",
    "!cp {notebookname}_files/*.* {image_dest}\n",
    "\n",
    "# now get the .md content for more transformations\n",
    "converted_notebook_filename = '{}.md'.format(notebookname)\n",
    "with open(converted_notebook_filename) as infile:\n",
    "    content = infile.read()\n",
    "\n",
    "# point image links to their new home\n",
    "import re\n",
    "image_pattern = re.compile(r'^(!\\[png\\])\\((.*?\\/(.*?))\\)$', re.DOTALL | re.MULTILINE)\n",
    "image_url = r'![plot]({{site.baseurl}}/assets/blog/jupyter/%s/\\3)' % notebookname\n",
    "content = image_pattern.sub(image_url, content)\n",
    "\n",
    "# remove these boilerplate cells\n",
    "directions_remove_pattern = re.compile(r'^# Instructions.*?^# Add your own cells below this cell', re.DOTALL | re.MULTILINE)\n",
    "content = directions_remove_pattern.sub('', content)\n",
    "\n",
    "# remove leading blank line so that top cell becomes functional jekyll front matter\n",
    "content = '\\n'.join(content.splitlines()[1:])\n",
    "\n",
    "# write the transformed content and place in `_posts`\n",
    "with open(converted_notebook_filename, 'w') as outfile:\n",
    "    outfile.write(content)\n",
    "!mv {converted_notebook_filename} ../_posts"
   ]
  },
  {
   "cell_type": "markdown",
   "metadata": {},
   "source": [
    "# Add your own cells below this cell"
   ]
  },
  {
   "cell_type": "code",
   "execution_count": null,
   "metadata": {
    "collapsed": true
   },
   "outputs": [],
   "source": []
  }
 ],
 "metadata": {
  "kernelspec": {
   "display_name": "Python 3",
   "language": "python",
   "name": "python3"
  },
  "language_info": {
   "codemirror_mode": {
    "name": "ipython",
    "version": 3
   },
   "file_extension": ".py",
   "mimetype": "text/x-python",
   "name": "python",
   "nbconvert_exporter": "python",
   "pygments_lexer": "ipython3",
   "version": "3.5.0"
  }
 },
 "nbformat": 4,
 "nbformat_minor": 0
}
